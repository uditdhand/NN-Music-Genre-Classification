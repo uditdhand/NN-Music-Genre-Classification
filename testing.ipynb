{
 "cells": [
  {
   "cell_type": "code",
   "execution_count": null,
   "metadata": {},
   "outputs": [],
   "source": [
    "import tensorflow as tf\n",
    "\n",
    "print(\"Num GPUs Available: \", len(tf.config.list_physical_devices('GPU')))"
   ]
  },
  {
   "cell_type": "code",
   "execution_count": 19,
   "metadata": {},
   "outputs": [
    {
     "name": "stdout",
     "output_type": "stream",
     "text": [
      "blues: 100 files\n",
      "classical: 100 files\n",
      "country: 100 files\n",
      "disco: 100 files\n",
      "hiphop: 100 files\n",
      "jazz: 98 files\n",
      "metal: 100 files\n",
      "pop: 100 files\n",
      "reggae: 100 files\n",
      "rock: 100 files\n"
     ]
    }
   ],
   "source": [
    "import os\n",
    "\n",
    "base_directory = \"Data\\spectrogram_images\\genres_original\"\n",
    "\n",
    "for folder in os.listdir(base_directory):\n",
    "    folder_path = os.path.join(base_directory, folder)\n",
    "    num_files = len([f for f in os.listdir(folder_path) if os.path.isfile(os.path.join(folder_path, f))])\n",
    "    print(f\"{folder}: {num_files} files\")"
   ]
  }
 ],
 "metadata": {
  "kernelspec": {
   "display_name": "env",
   "language": "python",
   "name": "python3"
  },
  "language_info": {
   "codemirror_mode": {
    "name": "ipython",
    "version": 3
   },
   "file_extension": ".py",
   "mimetype": "text/x-python",
   "name": "python",
   "nbconvert_exporter": "python",
   "pygments_lexer": "ipython3",
   "version": "3.11.5"
  }
 },
 "nbformat": 4,
 "nbformat_minor": 2
}
